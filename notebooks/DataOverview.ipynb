{
 "cells": [
  {
   "cell_type": "markdown",
   "id": "f7a3e153-d36c-4a8f-8625-43bab7bf761f",
   "metadata": {},
   "source": [
    "### Data Overview ###"
   ]
  },
  {
   "cell_type": "markdown",
   "id": "823f383c-ea05-4e80-b568-385e4ba03a8c",
   "metadata": {},
   "source": [
    "### Data Overview ###"
   ]
  },
  {
   "cell_type": "markdown",
   "id": "71594ad0-c16b-4902-9d92-677c255d6bb2",
   "metadata": {},
   "source": [
    "### Dataset Information ###"
   ]
  },
  {
   "cell_type": "markdown",
   "id": "cc0101e8-d07f-48fe-a427-00289092ce00",
   "metadata": {},
   "source": [
    "***Importing Libraries***"
   ]
  },
  {
   "cell_type": "code",
   "execution_count": 2,
   "id": "705cdb6f-7b20-468a-8b0b-64d291494cb9",
   "metadata": {},
   "outputs": [],
   "source": [
    "import pandas as pd\n",
    "import matplotlib.pyplot as plt\n",
    "import seaborn as sns"
   ]
  },
  {
   "cell_type": "markdown",
   "id": "aac70a15-e8e5-452b-8ed1-3e5f7c86a50e",
   "metadata": {},
   "source": [
    "***Import Dataset and EDA***"
   ]
  },
  {
   "cell_type": "code",
   "execution_count": null,
   "id": "6b584709-3edf-446d-86aa-3b59cda0b6a3",
   "metadata": {},
   "outputs": [],
   "source": [
    "# Load the dataset\n",
    "df = pd.read_csv('../data/bank-additional.csv', delimiter=';')\n",
    "\n",
    "# Get the info about the dataframe\n",
    "df.info()\n",
    "\n",
    "# Get few rows of the dataframe\n",
    "df.head()"
   ]
  }
 ],
 "metadata": {
  "kernelspec": {
   "display_name": "Python 3 (ipykernel)",
   "language": "python",
   "name": "python3"
  },
  "language_info": {
   "codemirror_mode": {
    "name": "ipython",
    "version": 3
   },
   "file_extension": ".py",
   "mimetype": "text/x-python",
   "name": "python",
   "nbconvert_exporter": "python",
   "pygments_lexer": "ipython3",
   "version": "3.12.2"
  }
 },
 "nbformat": 4,
 "nbformat_minor": 5
}
